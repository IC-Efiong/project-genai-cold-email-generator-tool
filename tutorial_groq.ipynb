{
 "cells": [
  {
   "cell_type": "code",
   "execution_count": 3,
   "id": "d5a6a997-5e43-460f-828c-50f72348f217",
   "metadata": {},
   "outputs": [],
   "source": [
    "!pip install -qU langchain-groq"
   ]
  },
  {
   "cell_type": "code",
   "execution_count": 5,
   "id": "3c61fae3-0f4b-4009-b872-c1dd44536083",
   "metadata": {},
   "outputs": [
    {
     "name": "stdout",
     "output_type": "stream",
     "text": [
      "...was Neil Armstrong. On July 20, 1969, Armstrong stepped out of the lunar module Eagle and onto the moon's surface during the Apollo 11 mission. His famous words upon taking his first steps were: \"That's one small step for man, one giant leap for mankind.\"\n"
     ]
    }
   ],
   "source": [
    "from langchain_groq import ChatGroq\n",
    "\n",
    "llm = ChatGroq(\n",
    "    model=\"llama-3.1-70b-versatile\",\n",
    "    temperature=0,\n",
    "    groq_api_key=\"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\"\n",
    ")\n",
    "\n",
    "response = llm.invoke(\"The first man to walk on the moon...\")\n",
    "print(response.content)"
   ]
  },
  {
   "cell_type": "code",
   "execution_count": null,
   "id": "99c840f8-204a-4fb0-81d4-546241716c21",
   "metadata": {},
   "outputs": [],
   "source": []
  }
 ],
 "metadata": {
  "kernelspec": {
   "display_name": "Python 3 (ipykernel)",
   "language": "python",
   "name": "python3"
  },
  "language_info": {
   "codemirror_mode": {
    "name": "ipython",
    "version": 3
   },
   "file_extension": ".py",
   "mimetype": "text/x-python",
   "name": "python",
   "nbconvert_exporter": "python",
   "pygments_lexer": "ipython3",
   "version": "3.12.4"
  }
 },
 "nbformat": 4,
 "nbformat_minor": 5
}
